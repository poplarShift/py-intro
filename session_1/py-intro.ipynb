{
 "cells": [
  {
   "cell_type": "markdown",
   "metadata": {},
   "source": [
    "# Session 1\n",
    "2019-04/16"
   ]
  },
  {
   "cell_type": "markdown",
   "metadata": {},
   "source": [
    "When working with python, best practice is to use so-called environments to make sure different installations and versions don't clash, and to not inadvertently break backward compatibilities with older code that you may have written.\n",
    "\n",
    "Create an environment like this:\n",
    "\n",
    "```\n",
    "conda create -n atelier -c conda-forge jupyterlab numpy matplotlib ipython scipy python=3.7\n",
    "```"
   ]
  },
  {
   "cell_type": "markdown",
   "metadata": {},
   "source": [
    "In notebooks, you can mix markdown cells (such as this one) with code cells (below).\n",
    "\n",
    "Some useful links:\n",
    "- https://jupyterlab.readthedocs.io/en/stable/\n",
    "- "
   ]
  },
  {
   "cell_type": "code",
   "execution_count": 1,
   "metadata": {},
   "outputs": [
    {
     "data": {
      "text/plain": [
       "3"
      ]
     },
     "execution_count": 1,
     "metadata": {},
     "output_type": "execute_result"
    }
   ],
   "source": [
    "1+2"
   ]
  },
  {
   "cell_type": "code",
   "execution_count": 2,
   "metadata": {},
   "outputs": [
    {
     "name": "stdout",
     "output_type": "stream",
     "text": [
      "0\n",
      "1\n",
      "2\n"
     ]
    }
   ],
   "source": [
    "import numpy as np\n",
    "\n",
    "for i in [0,1,2]:\n",
    "    print(i)"
   ]
  },
  {
   "cell_type": "markdown",
   "metadata": {},
   "source": [
    "You can even use so-called magics, such as this one (try running it):"
   ]
  },
  {
   "cell_type": "code",
   "execution_count": null,
   "metadata": {},
   "outputs": [],
   "source": [
    "%load script.py"
   ]
  },
  {
   "cell_type": "markdown",
   "metadata": {},
   "source": [
    "## Installing Python...\n",
    "\n",
    "for data science these days is more and more done using the anaconda ecosystem:\n",
    "- https://conda.io/projects/conda/en/latest/index.html\n",
    "\n",
    "If ever you need `pip`, the python package manager, you should first `conda activate your_environment`, then use `pip install` to add whatever you could fint in the anaconda channels. Create environment using `conda create -n atelier -c conda-forge jupyterlab numpy matplotlib ipython scipy`"
   ]
  }
 ],
 "metadata": {
  "kernelspec": {
   "display_name": "Python 3",
   "language": "python",
   "name": "python3"
  },
  "language_info": {
   "codemirror_mode": {
    "name": "ipython",
    "version": 3
   },
   "file_extension": ".py",
   "mimetype": "text/x-python",
   "name": "python",
   "nbconvert_exporter": "python",
   "pygments_lexer": "ipython3",
   "version": "3.7.3"
  }
 },
 "nbformat": 4,
 "nbformat_minor": 2
}
